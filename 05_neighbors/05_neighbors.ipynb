{
 "cells": [
  {
   "cell_type": "markdown",
   "metadata": {},
   "source": [
    "# Welcome to the Dark Art of Coding:\n",
    "## Introduction to Machine Learning\n",
    "k-Means Clustering\n",
    "\n",
    "<img src='../universal_images/dark_art_logo.600px.png' width='300' style=\"float:right\">"
   ]
  },
  {
   "cell_type": "markdown",
   "metadata": {},
   "source": [
    "# Objectives\n",
    "---"
   ]
  },
  {
   "cell_type": "markdown",
   "metadata": {},
   "source": [
    "In this session, students should expect to:\n",
    "\n",
    "* Cover an overview of k-Means Clustering\n",
    "* Examine code samples that walk us through **The Process™**:\n",
    "   * Prep the data\n",
    "   * Choose the model\n",
    "   * Choose appropriate hyperparameters\n",
    "   * Fit the model\n",
    "   * Apply the model\n",
    "   * Examine the results\n",
    "* Explore a deep dive into this model\n",
    "* Review some gotchas that might complicate things\n",
    "* Review tips related to learning more"
   ]
  },
  {
   "cell_type": "markdown",
   "metadata": {},
   "source": [
    "# Overview: k-Means Clustering\n",
    "---"
   ]
  },
  {
   "cell_type": "markdown",
   "metadata": {},
   "source": [
    "The goal of a clustering algorithm is to assign data points to the same group if they are similar and to assign data points to different groups if they are different.\n",
    "\n",
    "Clustering models are popular machine learning models because they:\n",
    "\n",
    "* are **unsupervised** and thus don't require pre-determined labels\n",
    "* can accommodate multidimensional datasets\n",
    "* can, for simple cases, be fairly easy to interpret, especially in 2D/3D via charts\n",
    "\n",
    "The k-Means Clustering algorithm: \n",
    "\n",
    "* looks for the arithmetic mean of all points in a cluster to identify the cluster centers\n",
    "* groups points together by identifying the closest cluster center\n",
    "\n",
    "For this example, we will use the `KMeans` model. `The sklearn.cluster` module has a number of clustering models, including:\n",
    "\n",
    "* AffinityPropagation\n",
    "* DBSCAN\n",
    "* KMeans\n",
    "* MeanShift\n",
    "* SpectralClustering\n",
    "* and more...\n",
    "\n",
    "With this background, let's apply **The Process™** on the `KMeans` Clustering model."
   ]
  },
  {
   "cell_type": "markdown",
   "metadata": {},
   "source": [
    "## Prep the data"
   ]
  },
  {
   "cell_type": "markdown",
   "metadata": {},
   "source": [
    "We start with a set of standard imports..."
   ]
  },
  {
   "cell_type": "code",
   "execution_count": null,
   "metadata": {},
   "outputs": [],
   "source": [
    "import matplotlib.pyplot as plt\n",
    "import numpy as np\n",
    "import pandas as pd\n",
    "import sklearn\n",
    "from sklearn.model_selection import train_test_split\n",
    "\n",
    "# NOTE: during the Choose the Model step, we will import the \n",
    "#     model we want, but there is no reason you can't import it here.\n",
    "# from sklearn.cluster import KMeans"
   ]
  },
  {
   "cell_type": "markdown",
   "metadata": {},
   "source": [
    "### Prep the training data and test data"
   ]
  },
  {
   "cell_type": "markdown",
   "metadata": {},
   "source": [
    "A number of data generating functions exist in Scikit-Learn to help you create data sets that you can use to play with and manipulate the models. For this example, I want to explore one of these data generation libraries: \n",
    "\n",
    "```python\n",
    "sklearn.datasets.samples_generator.make_blobs\n",
    "```\n",
    "\n",
    "This dataset generator produces preformatted `features` matrices and `target` arrays."
   ]
  },
  {
   "cell_type": "markdown",
   "metadata": {},
   "source": [
    "This dataset is composed of:\n",
    "\n",
    "* a `features matrix` of `x`-`y` vectors that can be plotted on a chart\n",
    "* a `target array` of cluster labels"
   ]
  },
  {
   "cell_type": "code",
   "execution_count": null,
   "metadata": {},
   "outputs": [],
   "source": [
    "from sklearn.datasets.samples_generator import make_blobs\n",
    "\n",
    "X, y = make_blobs(n_samples=400,\n",
    "                  centers=4,\n",
    "                  cluster_std=0.70,\n",
    "                  random_state=13)"
   ]
  },
  {
   "cell_type": "markdown",
   "metadata": {},
   "source": [
    "Since we have never made blobs before, we should check to see what the output looks like:"
   ]
  },
  {
   "cell_type": "code",
   "execution_count": null,
   "metadata": {},
   "outputs": [],
   "source": [
    "X.shape"
   ]
  },
  {
   "cell_type": "code",
   "execution_count": null,
   "metadata": {},
   "outputs": [],
   "source": [
    "X[:5]"
   ]
  },
  {
   "cell_type": "markdown",
   "metadata": {},
   "source": [
    "Initially, looking at only a five element slice of the labels didn't show me all the possible categories, so I expanded the slice a little, then more, then alot."
   ]
  },
  {
   "cell_type": "code",
   "execution_count": null,
   "metadata": {},
   "outputs": [],
   "source": [
    "y[:100]"
   ]
  },
  {
   "cell_type": "markdown",
   "metadata": {},
   "source": [
    "**TIP**: A quick way to confirm exactly which categories you have, if you have lots of them is to use the `np.unique()` method to deduplicate the elements stored in your array (i.e. `y`)."
   ]
  },
  {
   "cell_type": "code",
   "execution_count": null,
   "metadata": {},
   "outputs": [],
   "source": [
    "np.unique(y)"
   ]
  },
  {
   "cell_type": "markdown",
   "metadata": {},
   "source": [
    "In this case, we are gonna stick with the defaults in terms of the size of the test set and in terms of the random seed."
   ]
  },
  {
   "cell_type": "code",
   "execution_count": null,
   "metadata": {},
   "outputs": [],
   "source": [
    "X_train, X_test, y_train, y_test = train_test_split(X, y)"
   ]
  },
  {
   "cell_type": "code",
   "execution_count": null,
   "metadata": {},
   "outputs": [],
   "source": [
    "plt.scatter(X_train[:, 0], X_train[:, 1])\n",
    "plt.title(\"Four well behaved clusters\");"
   ]
  },
  {
   "cell_type": "markdown",
   "metadata": {},
   "source": [
    "## Choose the Model"
   ]
  },
  {
   "cell_type": "code",
   "execution_count": null,
   "metadata": {
    "collapsed": true
   },
   "outputs": [],
   "source": [
    "from sklearn.cluster import KMeans"
   ]
  },
  {
   "cell_type": "markdown",
   "metadata": {},
   "source": [
    "## Choose Appropriate Hyperparameters"
   ]
  },
  {
   "cell_type": "markdown",
   "metadata": {},
   "source": [
    "Here we choose to assign xx hyperparameters: `xx` and `xx`. We will discuss both later."
   ]
  },
  {
   "cell_type": "code",
   "execution_count": null,
   "metadata": {
    "collapsed": true
   },
   "outputs": [],
   "source": [
    "model = KMeans(n_clusters=4)"
   ]
  },
  {
   "cell_type": "markdown",
   "metadata": {},
   "source": [
    "There are a number of hyperparameters... we will cover several in greater depth later.\n",
    "\n",
    "```python\n",
    "KMeans(\n",
    "    n_clusters=8,\n",
    "    init='k-means++',\n",
    "    n_init=10,\n",
    "    max_iter=300,\n",
    "    tol=0.0001,\n",
    "    precompute_distances='auto',\n",
    "    verbose=0,\n",
    "    random_state=None,\n",
    "    copy_x=True,\n",
    "    n_jobs=None,\n",
    "    algorithm='auto',\n",
    ")\n",
    "```"
   ]
  },
  {
   "cell_type": "markdown",
   "metadata": {},
   "source": [
    "## Fit the Model"
   ]
  },
  {
   "cell_type": "markdown",
   "metadata": {},
   "source": [
    "This model doesn't need OR use any labels, so we simply feed in the `X_train` data."
   ]
  },
  {
   "cell_type": "code",
   "execution_count": null,
   "metadata": {
    "collapsed": true
   },
   "outputs": [],
   "source": [
    "model.fit(X_train)"
   ]
  },
  {
   "cell_type": "markdown",
   "metadata": {},
   "source": [
    "## Apply the Model"
   ]
  },
  {
   "cell_type": "code",
   "execution_count": null,
   "metadata": {
    "collapsed": true
   },
   "outputs": [],
   "source": [
    "y_pred = model.predict(X_test)"
   ]
  },
  {
   "cell_type": "code",
   "execution_count": null,
   "metadata": {
    "collapsed": true
   },
   "outputs": [],
   "source": [
    "y_pred.shape"
   ]
  },
  {
   "cell_type": "markdown",
   "metadata": {},
   "source": [
    "Again, here as above, we don't get to see all the categories by only looking at a five element slice."
   ]
  },
  {
   "cell_type": "code",
   "execution_count": null,
   "metadata": {
    "collapsed": true
   },
   "outputs": [],
   "source": [
    "y_pred[:5]"
   ]
  },
  {
   "cell_type": "markdown",
   "metadata": {},
   "source": [
    "## Examine the results"
   ]
  },
  {
   "cell_type": "markdown",
   "metadata": {},
   "source": [
    "If we plot the clusters and use the predicted labels as the basis for assigning colors, we see that the model correctly grouped the samples into clusters."
   ]
  },
  {
   "cell_type": "code",
   "execution_count": null,
   "metadata": {
    "collapsed": true
   },
   "outputs": [],
   "source": [
    "plt.scatter(X_test[:, 0], X_test[:, 1],\n",
    "            c=y_pred,\n",
    "            cmap='seismic', alpha=0.2);"
   ]
  },
  {
   "cell_type": "markdown",
   "metadata": {},
   "source": [
    "We mentioned that the model drills down to a center for each cluster. If you want to know where the centers are, the model stores them as an attribute called `.cluster_centers_`. \n",
    "\n",
    "**Notice** the trailing underscore (`_`) at the end of the attribute name to show that it is a computed value."
   ]
  },
  {
   "cell_type": "code",
   "execution_count": null,
   "metadata": {},
   "outputs": [],
   "source": [
    "model.cluster_centers_"
   ]
  },
  {
   "cell_type": "code",
   "execution_count": null,
   "metadata": {},
   "outputs": [],
   "source": [
    "ctrs = model.cluster_centers_"
   ]
  },
  {
   "cell_type": "markdown",
   "metadata": {},
   "source": [
    "With these points, it is simple enough to plot them on the chart. Here we highlight them as large (`s=150`) white dots (`c='white'`) outlined in black (`edgecolors='black'`)"
   ]
  },
  {
   "cell_type": "code",
   "execution_count": null,
   "metadata": {},
   "outputs": [],
   "source": [
    "plt.scatter(X_test[:, 0], X_test[:, 1],\n",
    "            c=y_pred,\n",
    "            cmap='seismic', alpha=0.2)\n",
    "\n",
    "plt.scatter(ctrs[:, 0], ctrs[:, 1],\n",
    "            c='white',\n",
    "            edgecolors='black',\n",
    "            s=150,\n",
    "            );"
   ]
  },
  {
   "cell_type": "markdown",
   "metadata": {},
   "source": [
    "# Deep Dive\n",
    "---\n",
    "\n",
    "The k-Means Clustering model works based on a process called **Expectation-Maximization**. In this process, the model:\n",
    "\n",
    "* starts by randomly picking some cluster centers\n",
    "* repeats the following cycle until the model converges\n",
    "    * Expectation: assign points to the closest cluster center\n",
    "    * Maximization: use the points of the newly formed clusters to calculate a new mean to use as a new cluster center\n",
    "    \n",
    "The process is designed such that for every cycle of the Expectation and Maximization steps, the model will always have a better estimation of any given cluster."
   ]
  },
  {
   "cell_type": "markdown",
   "metadata": {},
   "source": [
    "# Gotchas\n",
    "---"
   ]
  },
  {
   "cell_type": "markdown",
   "metadata": {},
   "source": [
    "**No global guarantees**: despite the promise of convergence... there is no guarantee that as a whole the clusters produced will globally be the most suitable clusters.\n",
    "\n",
    "It really depends on the randomly selected initial cluster centers. To overcome this limitation, the model typically runs the algorithm multiple times. The default `n_init` is set at `10`.\n",
    "\n",
    "**You must decide on the number of clusters**: when we set the hyperparameters, we need to initialize the model with the some number of clusters. The default `n_clusters` is set at `8`.\n",
    "\n",
    "* There are other models that may provide some measure of the fitness of the number of clusters: `GaussianMixture`\n",
    "* There are other models that can choose a suitable number of clusters: `DBSCAN`, `MeanShift`\n",
    "\n",
    "**Speed considerations**: clustering algorithms can be slow on large datasets."
   ]
  },
  {
   "cell_type": "markdown",
   "metadata": {},
   "source": [
    "**What do the colors OR category labels really mean?**:\n",
    "\n",
    "Turns out, not much. The labels aren't magic, they don't carry meaning beyond: every sample in this set with this label is tied to or associated with samples that carry the same label. Due to the way that the model randomizes the clustering process, during one run of the algorithm, a group of samples may be numbered `0`, while during a subsequent run of the algorithm, a similar grouping of samples might be numbered `1`.\n",
    "\n",
    "To demo this principle, let's plot the **test** data and the **training** data on the same chart.\n",
    "\n",
    "Remember, in scatter plots:\n",
    "\n",
    "* `c` values are assigned based on the labels we provide\n",
    "* `cmap` maps a color to each value associated with `c`\n",
    "* `seismic` is a range of colors from deep blue to deep red\n",
    "\n",
    "<img src='seismic.png' width='600'>\n",
    "\n",
    "* the plot selects four colors from the `seismic` range and assigns one color to each of the four labels that are present in `c` \n",
    "    * Almost black\n",
    "    * Blue\n",
    "    * Maroon\n",
    "    * Red\n",
    "\n",
    "Notice, the algorithms correctly lump the samples into clusters, but there is no correlation between the labels from the training run to the test run.\n",
    "\n",
    "The cluster at the top of the chart ended up having to separate labels and thus shows up as two different colors. Don't let that throw you."
   ]
  },
  {
   "cell_type": "code",
   "execution_count": null,
   "metadata": {},
   "outputs": [],
   "source": [
    "plt.scatter(X_test[:, 0], X_test[:, 1],\n",
    "            c=y_pred,\n",
    "            cmap='seismic', alpha=0.5)\n",
    "\n",
    "plt.scatter(X_train[:, 0], X_train[:, 1],\n",
    "            c=y_train,\n",
    "            cmap='seismic', alpha=0.2);\n"
   ]
  },
  {
   "cell_type": "markdown",
   "metadata": {},
   "source": [
    "# How to learn more: tips and hints\n",
    "---"
   ]
  },
  {
   "cell_type": "markdown",
   "metadata": {},
   "source": [
    "**Read the error messages**: They are sometimes scarier than the docs but they will often give you some insight into the nature of the problem.\n",
    "\n",
    "Pay attention to the errors. While putting this lesson together, I cobbled some content together from various notebooks using cut and paste and I failed to paste the line where I actually called the `.fit()` method. This error message was the result.\n",
    "\n",
    "```python\n",
    "NotFittedError: This KMeans instance is not fitted yet. Call 'fit' with appropriate arguments before using this method.```\n",
    "\n",
    "One of the most common mistakes that I see with students is that they don't read the error messages. Why?\n",
    "\n",
    "* Sometimes error messages aren't written by humans\n",
    "* Sometimes error messages are well-written, clear and concise, but a beginner doesn't yet understand what the message is trying to say\n",
    "* Sometimes students three or four changes to a snippet and then run the code and immediately presume that the last edit was the breaking change. So they go down some rabbithole on the wrong line of code\n",
    "\n",
    "So get used to reading the error messages, try to understand them. If they are foreign to you, Google some of the key phrases... it is often comforting to see how many folks out there have asked the same question about what does a specific error mean."
   ]
  },
  {
   "cell_type": "markdown",
   "metadata": {},
   "source": [
    "As far as additional topics to explore? Read up on **Scoring and validating your models**:\n",
    "\n",
    "[https://scikit-learn.org/stable/modules/learning_curve.html]()\n",
    "\n",
    "[https://scikit-learn.org/stable/modules/cross_validation.html#multimetric-cross-validation]()"
   ]
  },
  {
   "cell_type": "markdown",
   "metadata": {},
   "source": [
    "# Experience Points!\n",
    "---"
   ]
  },
  {
   "cell_type": "markdown",
   "metadata": {
    "slideshow": {
     "slide_type": "slide"
    }
   },
   "source": [
    "## Task 01"
   ]
  },
  {
   "cell_type": "markdown",
   "metadata": {},
   "source": [
    "Let's play around a bit...\n",
    "\n",
    "The following code is set up to make it easy for you to change the standard deviation for the clusters that `make_blobs()` will generate.\n",
    "\n",
    "The initial `cluster_std` is set at `0.7` (just as it was in the examples above).\n",
    "Execute the following cells to see the scatter plots showing the training data and the test/predicted data.\n",
    "\n",
    "Then change the values for `cluster_std` to each of the following values one by one, executing the cells for each value so that you can see how the clustering model responds as the spread of the input data increases.\n",
    "\n",
    "* 1\n",
    "* 2\n",
    "* 3"
   ]
  },
  {
   "cell_type": "code",
   "execution_count": null,
   "metadata": {
    "slideshow": {
     "slide_type": "slide"
    }
   },
   "outputs": [],
   "source": [
    "from sklearn.datasets.samples_generator import make_blobs\n",
    "\n",
    "cluster_std = 0.7     # std of 0.70 gives tight clusters, try other options!\n",
    "random_state = 13\n",
    "\n",
    "X, y = make_blobs(n_samples=400,\n",
    "                  centers=4,\n",
    "                  cluster_std=cluster_std,\n",
    "                  random_state=random_state)\n",
    "\n",
    "X_train, X_test, y_train, y_test = train_test_split(X, y)\n",
    "\n",
    "plt.scatter(X_train[:, 0], X_train[:, 1],\n",
    "            c=y_train,\n",
    "            cmap='seismic', alpha=0.5);"
   ]
  },
  {
   "cell_type": "code",
   "execution_count": null,
   "metadata": {},
   "outputs": [],
   "source": [
    "from sklearn.cluster import KMeans"
   ]
  },
  {
   "cell_type": "code",
   "execution_count": null,
   "metadata": {},
   "outputs": [],
   "source": [
    "model = KMeans(n_clusters=4)\n",
    "model.fit(X_train)"
   ]
  },
  {
   "cell_type": "code",
   "execution_count": null,
   "metadata": {},
   "outputs": [],
   "source": [
    "y_pred = model.predict(X_test)"
   ]
  },
  {
   "cell_type": "code",
   "execution_count": null,
   "metadata": {},
   "outputs": [],
   "source": [
    "plt.scatter(X_test[:, 0], X_test[:, 1],\n",
    "            c=y_pred,\n",
    "            cmap='seismic', alpha=0.5);"
   ]
  },
  {
   "cell_type": "markdown",
   "metadata": {},
   "source": [
    "---\n",
    "When you complete this exercise, please put your **green** post-it on your monitor. \n",
    "\n",
    "If you want to continue on at your own-pace, please feel free to do so.\n",
    "\n",
    "<img src='../universal_images/green_sticky.300px.png' width='200' style='float:left'>"
   ]
  },
  {
   "cell_type": "markdown",
   "metadata": {},
   "source": [
    "# References\n",
    "---"
   ]
  },
  {
   "cell_type": "markdown",
   "metadata": {},
   "source": [
    "Below are references that may assist you in learning more:\n",
    "    \n",
    "|Title (link)|Comments|\n",
    "|---|---|\n",
    "|[General API Reference](https://scikit-learn.org/stable/modules/classes.html)||\n",
    "|[KMeans API Reference](https://scikit-learn.org/stable/modules/generated/sklearn.cluster.KMeans.html#sklearn.cluster.KMeans)||\n",
    "|[User Guide](https://scikit-learn.org/stable/modules/clustering.html#k-means)||\n",
    "|[Sample datasets](https://scikit-learn.org/stable/modules/classes.html#module-sklearn.datasets)|Load or create datasets for practice and study|\n",
    "|[Make blobs](https://scikit-learn.org/stable/modules/generated/sklearn.datasets.make_blobs.html#sklearn.datasets.make_blobs)|Specifically make clusters of values|"
   ]
  }
 ],
 "metadata": {
  "kernelspec": {
   "display_name": "Python 3",
   "language": "python",
   "name": "python3"
  },
  "language_info": {
   "codemirror_mode": {
    "name": "ipython",
    "version": 3
   },
   "file_extension": ".py",
   "mimetype": "text/x-python",
   "name": "python",
   "nbconvert_exporter": "python",
   "pygments_lexer": "ipython3",
   "version": "3.6.7"
  }
 },
 "nbformat": 4,
 "nbformat_minor": 2
}
