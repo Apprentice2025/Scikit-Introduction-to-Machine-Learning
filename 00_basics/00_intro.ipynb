{
 "cells": [
  {
   "cell_type": "markdown",
   "metadata": {},
   "source": [
    "# Welcome to the Dark Art of Coding:\n",
    "## Introduction to Machine Learning\n",
    "Class overview\n",
    "\n",
    "<img src='../universal_images/dark_art_logo.600px.png' width='300' style=\"float:right\">"
   ]
  },
  {
   "cell_type": "markdown",
   "metadata": {},
   "source": [
    "# Objectives\n",
    "---"
   ]
  },
  {
   "cell_type": "markdown",
   "metadata": {},
   "source": [
    "In this session, students should expect to:\n",
    "\n",
    "* Get to know the instructor\n",
    "* Review 'what to expect' and 'what not to expect'"
   ]
  },
  {
   "cell_type": "markdown",
   "metadata": {},
   "source": [
    "# Instructor Intro\n",
    "---"
   ]
  },
  {
   "cell_type": "markdown",
   "metadata": {},
   "source": [
    "My name is **Chalmer Lowe**. I like to stay busy ... To that end, I:\n",
    "\n",
    "* work for **[Booz Allen Hamilton](https://www.boozallen.com/about.html)**, a technology and consulting firm with one guiding purpose—to empower people to change the world. \n",
    "* founded a programming school called **[Dark Art of Coding](https://darkartofcoding.com/)**, where I teach Python, data analysis and data science.\n",
    "* founded PyHawaii, the largest and most active programming meetup in Hawaii. \n",
    "* serve on the Pycon Education Summit Committee.\n",
    "* help teach the Introduction to Sprinting Hands-on Tutorial (Sunday night!)\n",
    "* this is my third Pycon tutorial... previous trips into the lion's den include:\n",
    "  * Introduction to Bokeh\n",
    "  * Introduction to Statistics and Probability\n",
    "* have contributed (in minor ways) to bokeh, pandas, Jupyter and more.\n",
    "\n",
    "|Social Media|Contact |\n",
    "|----:|----:|\n",
    "|Twitter|@chalmer_lowe|\n",
    "|Email|info@darkartofcoding.com|\n",
    "|Linkedin|https://www.linkedin.com/in/chalmerlowe/ |"
   ]
  },
  {
   "cell_type": "markdown",
   "metadata": {},
   "source": [
    "# What to expect/not expect\n",
    "---"
   ]
  },
  {
   "cell_type": "markdown",
   "metadata": {},
   "source": [
    "We have a lot of material to cover...\n",
    "\n",
    "1. We are gonna move at a **rapid pace**\n",
    "\n",
    "1. I will gladly take questions, but depending on the depth of the question and/or the relevance of the question to what we are trying to accomplish and/or whether I can answer the question, I might defer the question to a **parking lot** and cover it at the end OR after the tutorial ends\n",
    "\n",
    "1. During certain points in the tutorial, I may be able to support some one-on-one conversations and/or over-the-shoulder help, but it will be dependant on our progress\n",
    "\n",
    "1. There is a lot of math under the hood, when doing machine learning. There is almost no math in this tutorial\n",
    "\n",
    "1. If someone runs into a significant snag that can't be rectified in a timely fashion, I will invite you to simply take a deep breath, relax and enjoy the show OR partner with someone beside you >>> Please note, I would be happy to visit with you later during the conference OR during the Sprints to do a deep dive troubleshooting session.\n",
    "\n",
    "1. My main ambition today is **to teach you to learn**. I will do what I can to:\n",
    "   * Help you know where to look for more info\n",
    "   * Help you explore some of the most commonly used grammar and vocabulary\n",
    "\n",
    "1. Expectation management: No one is gonna walk out of this room, after only three hours, as a ninja/guru/rockstar\n",
    "\n",
    "1. For you to get there, will take considerable time, effort, practice, repetition and additional study"
   ]
  },
  {
   "cell_type": "markdown",
   "metadata": {},
   "source": [
    "# Lesson layout...\n",
    "---"
   ]
  },
  {
   "cell_type": "markdown",
   "metadata": {
    "slideshow": {
     "slide_type": "slide"
    }
   },
   "source": [
    "1. Each lesson starts with a high level **overview**\n",
    "\n",
    "1. The lesson then provides some **code samples** that you should be able to run and explore\n",
    "\n",
    "1. After the code, there will be some written documentation in a **deep dive** that we will cover at a high level\n",
    "\n",
    "1. To help us keep to our schedule, each section is **time-boxed**... we will cover as much as we can and then we will move on\n",
    "\n",
    "1. That deep dive is specifically designed for you to go back to for additional clarification at your leisure and to help account for the fact that with limited time, we won't have the ability to dwell deeply on any given topic\n",
    "\n",
    "1. In some of the sessions, there may be some opportunities for you to do some hands-on exercises... when you complete the exercise, put up your **green post-it**. If you run into a snag, put up your **red post-it**. (see a sample exercise below)\n",
    "\n",
    "1. Each lesson and exercise should be fairly stand-alone with the mindset that if something in a particular lesson doesn't work for you, it hopefully won't affect any of the follow-on lessons. If you run into a snag that we can't resolve, feel free to **make a note of it** and we can explore it together later today OR this weekend. "
   ]
  },
  {
   "cell_type": "markdown",
   "metadata": {},
   "source": [
    "# Experience Points!\n",
    "---"
   ]
  },
  {
   "cell_type": "markdown",
   "metadata": {
    "slideshow": {
     "slide_type": "slide"
    }
   },
   "source": [
    "Sample exercise...\n",
    "\n",
    "1. Remind yourself \"I've got this!\"\n",
    "1. Repeat\n"
   ]
  },
  {
   "cell_type": "markdown",
   "metadata": {},
   "source": [
    "---\n",
    "When you complete this exercise, please put your **green** post-it on your monitor. \n",
    "\n",
    "If you want to continue on at your own-pace, please feel free to do so.\n",
    "\n",
    "<img src='../universal_images/green_sticky.300px.png' width='200' style='float:left'>"
   ]
  }
 ],
 "metadata": {
  "kernelspec": {
   "display_name": "Python 3",
   "language": "python",
   "name": "python3"
  },
  "language_info": {
   "codemirror_mode": {
    "name": "ipython",
    "version": 3
   },
   "file_extension": ".py",
   "mimetype": "text/x-python",
   "name": "python",
   "nbconvert_exporter": "python",
   "pygments_lexer": "ipython3",
   "version": "3.6.7"
  }
 },
 "nbformat": 4,
 "nbformat_minor": 2
}
