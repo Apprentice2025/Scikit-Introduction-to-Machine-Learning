{
 "cells": [
  {
   "cell_type": "markdown",
   "metadata": {},
   "source": [
    "# Welcome to the Dark Art of Coding:\n",
    "## Introduction to Machine Learning\n",
    "Class overview\n",
    "\n",
    "<img src='../universal_images/dark_art_logo.600px.png' width='300' style=\"float:right\">"
   ]
  },
  {
   "cell_type": "markdown",
   "metadata": {},
   "source": [
    "# Objectives\n",
    "---"
   ]
  },
  {
   "cell_type": "markdown",
   "metadata": {},
   "source": [
    "In this session, students should expect to:\n",
    "\n",
    "* Get to know the instructor\n",
    "* Review 'what to expect' and 'what not to expect'"
   ]
  },
  {
   "cell_type": "markdown",
   "metadata": {},
   "source": [
    "# Instructor Intro\n",
    "---"
   ]
  },
  {
   "cell_type": "markdown",
   "metadata": {},
   "source": [
    "My name is **Chalmer Lowe**. I like to stay busy... I:\n",
    "\n",
    "work for **[Booz Allen Hamilton](https://www.boozallen.com/about.html)**, a technology and consulting firm with one guiding purpose—to empower people to change the world. \n",
    "\n",
    "founded a programming school called **[Dark Art of Coding](https://darkartofcoding.com/)**, where I teach Python, data analysis and data science.\n",
    "\n",
    "founded PyHawaii, the largest and most active programming meetup in Hawaii. \n",
    "\n",
    "serve on the Pycon Education Summit Committee.\n",
    "\n",
    "help teach the Introduction to Sprinting Hands-on Tutorial (Sunday night!)\n",
    "\n",
    "this is my third Pycon tutorial... previous trips into the lion's den include:\n",
    "\n",
    "* Introduction to Bokeh\n",
    "* Introduction to Statistics and Probability\n",
    "\n",
    "have contributed (in minor ways) to bokeh, pandas, Jupyter and more.\n",
    "\n",
    "|Social Media|Contact |\n",
    "|----:|----:|\n",
    "|Twitter|@chalmer_lowe|\n",
    "|Email|info@darkartofcoding.com|\n",
    "|Linkedin|https://www.linkedin.com/in/chalmerlowe/ |"
   ]
  },
  {
   "cell_type": "markdown",
   "metadata": {},
   "source": [
    "# What to expect/not expect\n",
    "---"
   ]
  },
  {
   "cell_type": "markdown",
   "metadata": {},
   "source": [
    "We have a lot of material to cover...\n",
    "\n",
    "We are gonna move at a rapid pace\n",
    "\n",
    "I will gladly take questions, but depending on the depth of the question and/or the relevance of the question to what we are trying to accomplish and/or whether I can answer the question, I might defer the question to a parking lot and cover it at the end OR after the tutorial ends.\n",
    "\n",
    "During certain points in the tutorial, I may be able to support some one-on-one conversations and/or over-the-shoulder help\n",
    "\n",
    "If we run into a significant snag that can't be rectified in a timely fashion, I may ask you to simply relax and enjoy the show OR partner with someone beside you >>> I would be happy to visit with you later during the conference OR during the Sprints to do a deep dive trouble shooting session.\n",
    "\n",
    "My main ambition is **to teach you to learn**\n",
    "\n",
    "* Help you know where to look for more info\n",
    "* Help you explore some of the most commonly used grammar and vocabulary\n",
    "\n",
    "No one is gonna walk out of this room, after only three hours, as a guru\n",
    "\n",
    "For you to get there, will take considerable time, effort, practice, repetition and additional study"
   ]
  },
  {
   "cell_type": "markdown",
   "metadata": {},
   "source": [
    "# Lesson layout...\n",
    "---"
   ]
  },
  {
   "cell_type": "markdown",
   "metadata": {
    "slideshow": {
     "slide_type": "slide"
    }
   },
   "source": [
    "Each lesson is designed to get us quickly to some sample code that you should be able to run and explore.\n",
    "\n",
    "After the code, there will be some written documentation that we will cover at a high level.\n",
    "\n",
    "Each lesson is time boxed. When we reach the end of the time slot, we will move on.\n",
    "\n",
    "You will have the written content to go back to for additional clarification at your leisure.\n",
    "\n",
    "There may be opportunities for you to do some hands-on exercises... when you complete the exercise, put up your green post-it. If you run into a snag, put up your red post-it.\n",
    "\n",
    "Each lesson and exercise should be fairly stand-alone, so we don't have the capaciity to resolve a problem with a given exercise in class, please make a note of it, we'll move on and we can explore it together later today OR this weekend. "
   ]
  },
  {
   "cell_type": "markdown",
   "metadata": {},
   "source": [
    "# Experience Points!\n",
    "---"
   ]
  },
  {
   "cell_type": "markdown",
   "metadata": {
    "slideshow": {
     "slide_type": "slide"
    }
   },
   "source": [
    "Sample exercise..."
   ]
  },
  {
   "cell_type": "markdown",
   "metadata": {},
   "source": [
    "---\n",
    "When you complete this exercise, please put your **green** post-it on your monitor. \n",
    "\n",
    "If you want to continue on at your own-pace, please feel free to do so.\n",
    "\n",
    "<img src='../universal_images/green_sticky.300px.png' width='200' style='float:left'>"
   ]
  }
 ],
 "metadata": {
  "kernelspec": {
   "display_name": "Python 3",
   "language": "python",
   "name": "python3"
  },
  "language_info": {
   "codemirror_mode": {
    "name": "ipython",
    "version": 3
   },
   "file_extension": ".py",
   "mimetype": "text/x-python",
   "name": "python",
   "nbconvert_exporter": "python",
   "pygments_lexer": "ipython3",
   "version": "3.6.7"
  }
 },
 "nbformat": 4,
 "nbformat_minor": 2
}
