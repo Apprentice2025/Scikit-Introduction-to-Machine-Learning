{
 "cells": [
  {
   "cell_type": "markdown",
   "metadata": {},
   "source": [
    "# Welcome to the Dark Art of Coding:\n",
    "## Introduction to Machine Learning\n",
    "Conclusion\n",
    "\n",
    "<img src='../universal_images/dark_art_logo.600px.png' width='300' style=\"float:right\">"
   ]
  },
  {
   "cell_type": "markdown",
   "metadata": {},
   "source": [
    "# Objectives\n",
    "---"
   ]
  },
  {
   "cell_type": "markdown",
   "metadata": {},
   "source": [
    "In this session, students should expect to:\n",
    "\n",
    "* Review the content of the tutorial\n",
    "* Find places to learn more\n",
    "* Be inspired to continue the journey"
   ]
  },
  {
   "cell_type": "markdown",
   "metadata": {},
   "source": [
    "# Review\n",
    "---"
   ]
  },
  {
   "cell_type": "markdown",
   "metadata": {},
   "source": [
    "## The Processs"
   ]
  },
  {
   "cell_type": "markdown",
   "metadata": {},
   "source": [
    "As we saw, for each model, **The Process** was by and large the same. When I started out, that discovery gave me a sense of relief.\n",
    "\n",
    "As your familiarity with Scikit Learn increases, you will find that each of the steps is pretty small and pretty straightforward, even if it doesn't feel that way today.\n",
    "\n",
    "* Prep the data\n",
    "* Choose the model\n",
    "* Choose appropriate hyperparameters\n",
    "* Fit the model\n",
    "* Apply the model\n",
    "* Examine the results\n",
    "\n"
   ]
  },
  {
   "cell_type": "markdown",
   "metadata": {},
   "source": [
    "# Where to go next\n",
    "---"
   ]
  },
  {
   "cell_type": "markdown",
   "metadata": {},
   "source": [
    "Machine learning is just one part of a data analysis system.\n",
    "\n",
    "* Frame the problem\n",
    "* Data acquisition\n",
    "* Data wrangling (cleansing, normalization, filtering, deduplication, etc)\n",
    "* Data exploration\n",
    "* In-depth analysis (sometimes machine learning)\n",
    "* Communication of results\n",
    "\n",
    "If you are part of a team, you may get lucky enough to find someone who is adept at some of these steps (hopefully the most tedious and time-consuming steps).\n",
    "\n",
    "But for the rest of us, we have to do some or all of the steps ourselves.\n",
    "\n",
    "If that is the case, then it behooves you to grow your skills not only on the In-depth Analysis steps, but on all of the other steps as well. Especially the ones where you will spend the greatest amount of time.\n",
    "\n",
    "<img src='task_breakdown.jpg' width='600'>\n",
    "\n",
    "Source: [Forbes article on data analysis task breakdowns](https://www.forbes.com/sites/gilpress/2016/03/23/data-preparation-most-time-consuming-least-enjoyable-data-science-task-survey-says/#50b1f0236f63)\n",
    "\n",
    "\n",
    "**Yeah, but what about machine learning?**\n",
    "\n",
    "As you grow your skills in the ancillary skills, how do you grow your machine learning skills?\n",
    "\n",
    "* find the environment you learn best in: books, videos, classrooms\n",
    "* meet folks at meetups\n",
    "* find a pet project that will keep your attention\n",
    "* write code. every day. no, really, every day!\n",
    "\n"
   ]
  },
  {
   "cell_type": "markdown",
   "metadata": {},
   "source": [
    "# A little inspiration\n",
    "---"
   ]
  },
  {
   "cell_type": "markdown",
   "metadata": {},
   "source": [
    "As you continue your studies, you will often come across tutorials and code samples and by and large, each of them will follow the steps in **The Process™** (whether they call it that or not). When faced with a wall of code...\n",
    "\n",
    "* take a deep breath\n",
    "* break the code into parts \n",
    "* build the code line by line (don't just cut and paste)\n",
    "* identify which step are we working on in any given code block\n",
    "* separate the `must have` code from the `nice to have` code (the machine learning steps from the data engineering OR from the data viz steps)\n",
    "* run the code line by line, and thoroughly think about and examine what is produced by each line of code (is it a numpy array, a dataframe, a model, a prediction, etc)\n",
    "\n",
    "And most importantly:"
   ]
  },
  {
   "cell_type": "markdown",
   "metadata": {},
   "source": [
    "**Don't give up**\n",
    "\n",
    "**Be curious**\n",
    "\n",
    "**Study hard**"
   ]
  },
  {
   "cell_type": "markdown",
   "metadata": {},
   "source": [
    "# Experience Points!\n",
    "---"
   ]
  },
  {
   "cell_type": "markdown",
   "metadata": {
    "slideshow": {
     "slide_type": "slide"
    }
   },
   "source": [
    "# Final task: task 01\n",
    "\n",
    "Tell yourself: \"**I've got this!**\"\n",
    "\n",
    "Repeat"
   ]
  },
  {
   "cell_type": "markdown",
   "metadata": {},
   "source": [
    "---\n",
    "When you complete this exercise, please put your **green** post-it on your monitor. \n",
    "\n",
    "If you want to continue on at your own-pace, please feel free to do so.\n",
    "\n",
    "<img src='../universal_images/green_sticky.300px.png' width='200' style='float:left'>"
   ]
  },
  {
   "cell_type": "markdown",
   "metadata": {},
   "source": [
    "# References\n",
    "---"
   ]
  },
  {
   "cell_type": "markdown",
   "metadata": {},
   "source": [
    "Below are references that may assist you in learning more:\n",
    "    \n",
    "|Title (link)|Comments|\n",
    "|---|---|\n",
    "|[General API Reference](https://scikit-learn.org/stable/modules/classes.html)||\n",
    "|[Forbes article](https://www.forbes.com/sites/gilpress/2016/03/23/data-preparation-most-time-consuming-least-enjoyable-data-science-task-survey-says/#50b1f0236f63)|Article on data analysis task breakdowns|\n"
   ]
  },
  {
   "cell_type": "code",
   "execution_count": null,
   "metadata": {},
   "outputs": [],
   "source": []
  }
 ],
 "metadata": {
  "kernelspec": {
   "display_name": "Python 3",
   "language": "python",
   "name": "python3"
  },
  "language_info": {
   "codemirror_mode": {
    "name": "ipython",
    "version": 3
   },
   "file_extension": ".py",
   "mimetype": "text/x-python",
   "name": "python",
   "nbconvert_exporter": "python",
   "pygments_lexer": "ipython3",
   "version": "3.6.7"
  }
 },
 "nbformat": 4,
 "nbformat_minor": 2
}
